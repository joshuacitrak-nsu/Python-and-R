{
 "cells": [
  {
   "cell_type": "code",
   "execution_count": 1,
   "id": "3eb2ab0f-509b-478b-ae3b-f7a087768987",
   "metadata": {},
   "outputs": [],
   "source": [
    "import pandas as pd\n",
    "from pyspark.sql import SparkSession\n",
    "import pyspark.sql.functions as F\n",
    "\n",
    "spark = SparkSession.builder.getOrCreate()"
   ]
  },
  {
   "cell_type": "code",
   "execution_count": 2,
   "id": "3c91517e-bc24-4b7a-84fa-6766804cf9be",
   "metadata": {},
   "outputs": [
    {
     "data": {
      "text/plain": [
       "['title',\n",
       " 'rank',\n",
       " 'date',\n",
       " 'artist',\n",
       " 'url',\n",
       " 'region',\n",
       " 'chart',\n",
       " 'trend',\n",
       " 'streams']"
      ]
     },
     "execution_count": 2,
     "metadata": {},
     "output_type": "execute_result"
    }
   ],
   "source": [
    "# Import data from csv file using spark\n",
    "spark_charts = spark.read.csv(\"data/charts.csv\", header=True, inferSchema=True)\n",
    "spark_charts.columns"
   ]
  },
  {
   "cell_type": "code",
   "execution_count": 3,
   "id": "da0f92c9-9296-4970-8f23-84ed4806739c",
   "metadata": {},
   "outputs": [
    {
     "name": "stdout",
     "output_type": "stream",
     "text": [
      "+---------------------------+---------+\n",
      "|title                      |region   |\n",
      "+---------------------------+---------+\n",
      "|Chantaje (feat. Maluma)    |Argentina|\n",
      "|Vente Pa' Ca (feat. Maluma)|Argentina|\n",
      "|Reggaetón Lento (Bailemos) |Argentina|\n",
      "|Safari                     |Argentina|\n",
      "|Shaky Shaky                |Argentina|\n",
      "+---------------------------+---------+\n",
      "only showing top 5 rows\n",
      "\n"
     ]
    }
   ],
   "source": [
    "spark_charts[['title', 'region']].show(truncate=False, n=5)"
   ]
  },
  {
   "cell_type": "code",
   "execution_count": 4,
   "id": "7d04c08f-8e6c-4237-be76-4d860b5c145a",
   "metadata": {},
   "outputs": [
    {
     "data": {
      "text/plain": [
       "pyspark.sql.dataframe.DataFrame"
      ]
     },
     "execution_count": 4,
     "metadata": {},
     "output_type": "execute_result"
    }
   ],
   "source": [
    "type(spark_charts)"
   ]
  },
  {
   "cell_type": "code",
   "execution_count": 5,
   "id": "dec2c3f8-ac7f-477f-9037-957db0f8b328",
   "metadata": {},
   "outputs": [],
   "source": [
    "# chain the filter, groupby, and agg operations\n",
    "result = (spark_charts.filter((F.col(\"chart\") == \"top200\") & (F.col(\"region\") == \"Australia\")) \n",
    "          .groupby(\"artist\") \n",
    "           .agg(\n",
    "               F.countDistinct(\"date\").alias(\"n_dates\"), \n",
    "               F.countDistinct(\"title\").alias(\"n_songs\"))\n",
    "          .orderBy(F.desc(\"n_dates\"))\n",
    "         )"
   ]
  },
  {
   "cell_type": "code",
   "execution_count": 6,
   "id": "5ea146cf-e335-4dae-9dfd-6b56bd7da152",
   "metadata": {},
   "outputs": [
    {
     "name": "stdout",
     "output_type": "stream",
     "text": [
      "+------------+-------+-------+\n",
      "|      artist|n_dates|n_songs|\n",
      "+------------+-------+-------+\n",
      "|  Ed Sheeran|   1811|     60|\n",
      "| The Killers|   1810|      3|\n",
      "|James Arthur|   1807|      9|\n",
      "|   Vance Joy|   1803|     18|\n",
      "|       Drake|   1793|     82|\n",
      "|XXXTENTACION|   1710|     46|\n",
      "| Post Malone|   1688|     41|\n",
      "|Travis Scott|   1611|     26|\n",
      "|      Eminem|   1589|     55|\n",
      "|       Oasis|   1580|      2|\n",
      "+------------+-------+-------+\n",
      "only showing top 10 rows\n",
      "\n"
     ]
    }
   ],
   "source": [
    "# display the result\n",
    "result.show(n=10)"
   ]
  },
  {
   "cell_type": "code",
   "execution_count": 8,
   "id": "60bc9f8f-b5fa-403a-bfcc-c9337201eece",
   "metadata": {},
   "outputs": [
    {
     "name": "stdout",
     "output_type": "stream",
     "text": [
      "+-----------------------+-----+\n",
      "|title                  |count|\n",
      "+-----------------------+-----+\n",
      "|Wonderwall - Remastered|1519 |\n",
      "|Wonderwall             |61   |\n",
      "+-----------------------+-----+\n",
      "\n"
     ]
    }
   ],
   "source": [
    "# Get the names of the Oasis songs that ranked in the top 10 for Australia\n",
    "filtered_df = spark_charts.filter((F.col(\"artist\") == \"Oasis\") & (F.col(\"region\") == \"Australia\"))\n",
    "\n",
    "counted_df = filtered_df.groupBy(\"title\").count().orderBy(F.desc(\"count\"))\n",
    "\n",
    "counted_df.show(truncate=False)\n"
   ]
  },
  {
   "cell_type": "code",
   "execution_count": null,
   "id": "8ab12ec8-30fe-4890-81f6-932a27635872",
   "metadata": {
    "tags": []
   },
   "outputs": [],
   "source": [
    "# For local PySpark applications there is no need to explicitly disconnect or stop SparkSession\n",
    "# If running on a distributed environment you may need to explicitly disconnect to avoid leaving\n",
    "# idle resources.  In this case you can use `SparkSession.stop()`"
   ]
  }
 ],
 "metadata": {
  "kernelspec": {
   "display_name": "Python 3 (ipykernel)",
   "language": "python",
   "name": "python3"
  },
  "language_info": {
   "codemirror_mode": {
    "name": "ipython",
    "version": 3
   },
   "file_extension": ".py",
   "mimetype": "text/x-python",
   "name": "python",
   "nbconvert_exporter": "python",
   "pygments_lexer": "ipython3",
   "version": "3.10.8"
  }
 },
 "nbformat": 4,
 "nbformat_minor": 5
}
